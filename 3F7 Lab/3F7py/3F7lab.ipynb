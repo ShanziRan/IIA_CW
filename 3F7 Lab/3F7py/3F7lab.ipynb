{
  "cells": [
    {
      "cell_type": "markdown",
      "metadata": {
        "id": "iQumffRnUHqE"
      },
      "source": [
        "# 3F7 Lab: CamZIP"
      ]
    },
    {
      "cell_type": "markdown",
      "metadata": {
        "id": "UYGppw5NUHqH"
      },
      "source": [
        "## Tree data structures"
      ]
    },
    {
      "cell_type": "markdown",
      "metadata": {
        "id": "4lQWOhiIVBRt"
      },
      "source": [
        "This lab has been modified from previous versions to define all functions inline instead of importing them from a library, in response to student feedback that rightly pointed out that Jupyter Notebooks don't work well with imported libraries if you have to edit and modify the library (essentially you have to restart the Jupyter engine every time and re-run all the relevant cells...) The drawback now is that some cells will look very busy as we define all the auxiliary functions inline."
      ]
    },
    {
      "cell_type": "markdown",
      "metadata": {
        "id": "OoAhJuUgUHqH"
      },
      "source": [
        "We put together a number of tools for handling trees in the 3F7 lab. You do not need to examine the details in this cell."
      ]
    },
    {
      "cell_type": "code",
      "execution_count": 75,
      "metadata": {
        "id": "XCTTAUc7UHqH"
      },
      "outputs": [],
      "source": [
        "## Please ignore the details of this cell, it contains in-line  library function definitions\n",
        "\n",
        "def tree2newick(t, labels = []):\n",
        "    return(xtree2newick(tree2xtree(t, labels)))\n",
        "\n",
        "def xtree2newick(xt, labels = [], n = -1):\n",
        "    \"\"\"\n",
        "    Converts an extended tree to Newick format.\n",
        "\n",
        "    Parameters:\n",
        "    -----------\n",
        "    xt: list of lists\n",
        "    Extended tree defined as list of lists where each list contains as its\n",
        "    first element a pointer to its parent and the second element is a list\n",
        "    containing pointers its children\n",
        "\n",
        "    n: int\n",
        "    USED INTERNALLY FOR RECURSION, DO NOT SET!\n",
        "\n",
        "    Returns:\n",
        "    --------\n",
        "    string\n",
        "    Tree description in Newick format (can be used to view a tree viewing standard\n",
        "    tools, e.g., phylo.io online phylogenetic tree viewer.)\n",
        "\n",
        "    Written by Jossy, 2018\n",
        "    \"\"\"\n",
        "\n",
        "    if len(labels) == 0:\n",
        "        try:\n",
        "            labels = [int(a[2]) for a in xt]\n",
        "            if max(labels) < 128:\n",
        "                labels = [chr(a) for a in labels]\n",
        "        except ValueError:\n",
        "            labels = [a[2] for a in xt]\n",
        "        for k in range(len(labels)):\n",
        "            if labels[k] == ',':\n",
        "                labels[k] = 'comma'\n",
        "            elif labels[k] == '(':\n",
        "                labels[k] = 'left parenthesis'\n",
        "            elif labels[k] == ')':\n",
        "                labels[k] = 'right parenthesis'\n",
        "            elif labels[k] == '\\n':\n",
        "                labels[k] = 'carriage return'\n",
        "            elif labels[k] == '|':\n",
        "                labels[k] = 'vertical bar'\n",
        "            elif labels[k] == ':':\n",
        "                labels[k] = 'colon'\n",
        "            elif labels[k] == ';':\n",
        "                labels[k] = 'semi-colon'\n",
        "            elif labels[k] == ' ':\n",
        "                labels[k] = 'space'\n",
        "            elif labels[k] == '[':\n",
        "                labels[k] = 'left square bracket'\n",
        "            elif labels[k] == ']':\n",
        "                labels[k] = 'right square bracket'\n",
        "\n",
        "    if (n == -1): # find root and set n to index of root\n",
        "        n = [ind for ind in range(len(xt)) if xt[ind][0] == -1]\n",
        "        if len(n) != 1:\n",
        "            raise NameError('Tree with no root or several roots')\n",
        "        n = n[0] # n is a list with 1 element, retrieve that element\n",
        "\n",
        "    # find the children of the current node\n",
        "    children = [a for a in xt[n][1] if a != -1]\n",
        "    # if the current node has no children, return its label\n",
        "    if len(children) == 0:\n",
        "        return '%(myname)s' % {'myname': labels[n]}\n",
        "    # for every child, recurse the function and separate its outcomes by commas\n",
        "    outstring = xtree2newick(xt,labels,children[0]) # first child\n",
        "    for k in range(1,len(children)): # remaining children\n",
        "        outstring = outstring + ',' + xtree2newick(xt,labels,children[k])\n",
        "\n",
        "    # surround the string by parenthesis and append the current node label\n",
        "    outstring = '(' + outstring + ')%(myname)s' % {'myname': labels[n]}\n",
        "    return outstring # return the resulting string\n",
        "\n",
        "\n",
        "def tree2xtree(t, labels = []):\n",
        "    xt = [[] for node in t]\n",
        "    for node in range(len(t)):\n",
        "        children = [ind for ind in range(len(t)) if t[ind] == node]\n",
        "        xt[node].append(t[node])\n",
        "        xt[node].append(children)\n",
        "\n",
        "    # if tree only partially labeled or no labels, use partial labels\n",
        "    # and natural numbering for remaining nodes, starting from leaves first\n",
        "    if len(labels) < len(t):\n",
        "        xtlabels = [[] for k in range(len(t))]\n",
        "        leavesfirst = [k for k in range(len(xt)) if len(xt[k][1]) == 0]\n",
        "        leavesfirst.extend([k for k in range(len(xt)) if len(xt[k][1]) > 0])\n",
        "        for k in range(len(labels)):\n",
        "            xtlabels[leavesfirst[k]] = labels[k]\n",
        "        for k in range(len(labels),len(xt)):\n",
        "            xtlabels[leavesfirst[k]] = str(k+1000)\n",
        "        labels = xtlabels\n",
        "    for node in range(len(xt)):\n",
        "        xt[node].append(labels[node])\n",
        "\n",
        "    return xt\n",
        "\n",
        "def xtree2tree(xt):\n",
        "    return [node[0] for node in xt]\n",
        "\n",
        "def xtree2code(xt):\n",
        "    leaves = [ind for ind in range(len(xt)) if len(xt[ind][1]) == 0]\n",
        "    code = {}\n",
        "    for leaf in leaves:\n",
        "        codeword = []\n",
        "        node = leaf\n",
        "        while xt[node][0] != -1: # while node is not root\n",
        "            parent = xt[node][0] # node's parent\n",
        "            # which number child am I?\n",
        "            nchild = [ind for ind in range(len(xt[parent][1])) if xt[parent][1][ind] == node]\n",
        "            codeword.insert(0, nchild[0])\n",
        "            node = parent\n",
        "        code[xt[leaf][2]] = codeword\n",
        "\n",
        "    return code\n",
        "\n",
        "\n",
        "def tree2code(t, labels=[]):\n",
        "    return xtree2code(tree2xtree(t, labels))\n",
        "\n",
        "def code2xtree(c):\n",
        "    xt = [[-1, []]] # init tree with just a root\n",
        "    for symbol in c:\n",
        "        node = 0 # reset to root\n",
        "        for digit in c[symbol]:\n",
        "            while len(xt[node][1]) <= digit:\n",
        "                xt[node][1].append(-1)\n",
        "            if xt[node][1][digit] == -1:\n",
        "                # create new node\n",
        "                xt.append([node, []])\n",
        "                xt[node][1][digit] = len(xt)-1\n",
        "            node = xt[node][1][digit]\n",
        "        xt[node].append(symbol)\n",
        "\n",
        "    # label the nodes that are not codewords by numbering them\n",
        "    not_codeword_nodes = [k for k in range(len(xt)) if len(xt[k]) < 3]\n",
        "    for k in range(len(not_codeword_nodes)):\n",
        "        xt[not_codeword_nodes[k]].append(str(k))\n",
        "\n",
        "    return xt\n",
        "\n",
        "\n",
        "def code2tree(c):\n",
        "    return xtree2tree(code2xtree(c))\n"
      ]
    },
    {
      "cell_type": "markdown",
      "metadata": {
        "id": "-e62UmS7UHqI"
      },
      "source": [
        "Now define a simple tree (play around with this command and construct more complicated trees....)"
      ]
    },
    {
      "cell_type": "code",
      "execution_count": 84,
      "metadata": {
        "id": "OQe8S2mTUHqI"
      },
      "outputs": [],
      "source": [
        "t = [-1, 0, 0, 1, 1, 3, 3, 4, 2]"
      ]
    },
    {
      "cell_type": "markdown",
      "metadata": {
        "id": "8Zv5PatjUHqJ"
      },
      "source": [
        "The following command will print a string that can be copy-pasted into a tree visualising website like [phylo.io](https://phylo.io) (don't forget to add a new line at the end of the string after cutting and pasting)"
      ]
    },
    {
      "cell_type": "code",
      "execution_count": 85,
      "metadata": {
        "colab": {
          "base_uri": "https://localhost:8080/"
        },
        "id": "UgYTFiW4UHqJ",
        "outputId": "29e40b07-65d8-48b8-ab68-092fa4622450"
      },
      "outputs": [
        {
          "name": "stdout",
          "output_type": "stream",
          "text": [
            "(((1000,1001)1007,(1002)1008)1005,(1003)1006)1004\n",
            "Cut and paste the string on the previous line and add a \"new line\" at the end of the string.\n"
          ]
        }
      ],
      "source": [
        "print(tree2newick(t))\n",
        "print('Cut and paste the string on the previous line and add a \"new line\" at the end of the string.')"
      ]
    },
    {
      "cell_type": "markdown",
      "metadata": {
        "id": "U4OGOYuMUHqK"
      },
      "source": [
        "You can also add labels to the nodes in the `tree2newick` command."
      ]
    },
    {
      "cell_type": "code",
      "execution_count": 4,
      "metadata": {
        "colab": {
          "base_uri": "https://localhost:8080/"
        },
        "id": "QGg8iUQtUHqK",
        "outputId": "29a2effa-aea0-4233-f303-a9a82d1880f8"
      },
      "outputs": [
        {
          "name": "stdout",
          "output_type": "stream",
          "text": [
            "((grandchild 0,grandchild 1)child 0,child 1)root\n"
          ]
        }
      ],
      "source": [
        "print(tree2newick(t,['root', 'child 0', 'grandchild 0', 'grandchild 1', 'child 1']))"
      ]
    },
    {
      "cell_type": "markdown",
      "metadata": {
        "id": "A2z0YnZHUHqL"
      },
      "source": [
        "If there are less labels than nodes, the labels will be interpreted \"leaves first\""
      ]
    },
    {
      "cell_type": "markdown",
      "metadata": {},
      "source": [
        "If there are less labels than nodes, the labels will be interpreted \"leaves first\""
      ]
    },
    {
      "cell_type": "code",
      "execution_count": 5,
      "metadata": {
        "colab": {
          "base_uri": "https://localhost:8080/"
        },
        "id": "Fo2B4oqIUHqL",
        "outputId": "b01cece2-36f9-4ab3-a7b8-b707c3154f0f"
      },
      "outputs": [
        {
          "name": "stdout",
          "output_type": "stream",
          "text": [
            "((symbol 0,symbol 1)1004,symbol 2)1003\n"
          ]
        }
      ],
      "source": [
        "print(tree2newick(t,['symbol 0','symbol 1', 'symbol 2']))"
      ]
    },
    {
      "cell_type": "markdown",
      "metadata": {
        "id": "1uozDJKGUHqL"
      },
      "source": [
        "The following command converts a variable-length code described by a tree to a code table format."
      ]
    },
    {
      "cell_type": "code",
      "execution_count": 86,
      "metadata": {
        "colab": {
          "base_uri": "https://localhost:8080/"
        },
        "id": "73OQfug2UHqL",
        "outputId": "6b372628-1b77-4ede-bdfd-195de16a6ec9",
        "scrolled": true
      },
      "outputs": [
        {
          "name": "stdout",
          "output_type": "stream",
          "text": [
            "{'1000': [0, 0, 0], '1001': [0, 0, 1], '1002': [0, 1, 0], '1003': [1, 0]}\n"
          ]
        }
      ],
      "source": [
        "print(tree2code(t))"
      ]
    },
    {
      "cell_type": "markdown",
      "metadata": {
        "id": "nqFEr0B7UHqL"
      },
      "source": [
        "Verify that the inverse function can recover the tree."
      ]
    },
    {
      "cell_type": "code",
      "execution_count": 7,
      "metadata": {
        "colab": {
          "base_uri": "https://localhost:8080/"
        },
        "id": "8AcWxOtTUHqM",
        "outputId": "046a4377-8e92-40dc-b4b0-431fa39552ff"
      },
      "outputs": [
        {
          "name": "stdout",
          "output_type": "stream",
          "text": [
            "[-1, 0, 1, 1, 0]\n"
          ]
        }
      ],
      "source": [
        "print(code2tree(tree2code(t)))"
      ]
    },
    {
      "cell_type": "markdown",
      "metadata": {
        "id": "MuuZox3KUHqM"
      },
      "source": [
        "But the following may happen as well. Can you explain why?"
      ]
    },
    {
      "cell_type": "code",
      "execution_count": 8,
      "metadata": {
        "colab": {
          "base_uri": "https://localhost:8080/"
        },
        "id": "n5f9Nu62UHqM",
        "outputId": "0b2158f3-2c65-4f84-9235-2cd797796f22"
      },
      "outputs": [
        {
          "name": "stdout",
          "output_type": "stream",
          "text": [
            "[-1, 0, 1, 1, 0]\n"
          ]
        }
      ],
      "source": [
        "print(code2tree(tree2code([3,3,4,4,-1])))"
      ]
    },
    {
      "cell_type": "markdown",
      "metadata": {},
      "source": [
        "This new tree includes many unused(wasted) nodes, which can be simplified to the representation of t that has shorter expected codeword length."
      ]
    },
    {
      "cell_type": "code",
      "execution_count": 13,
      "metadata": {
        "colab": {
          "base_uri": "https://localhost:8080/"
        },
        "id": "ML88VHHnUHqM",
        "outputId": "22a78af2-6e99-4b23-ae15-fea7bc3229f0"
      },
      "outputs": [
        {
          "name": "stdout",
          "output_type": "stream",
          "text": [
            "(child 0,(grandchild 0,grandchild 1)child 1)root\n"
          ]
        }
      ],
      "source": [
        "print(tree2newick([3,3,4,4,-1], ['grandchild 0', 'grandchild 1', 'child 0', 'child 1', 'root']))"
      ]
    },
    {
      "cell_type": "markdown",
      "metadata": {
        "id": "Wn-IA_4RUHqM"
      },
      "source": [
        "Similarly but far more problematic is the following inversion. The resulting assignment of codeword to symbols is fundamentally different from the original and would result in wrong decoding."
      ]
    },
    {
      "cell_type": "code",
      "execution_count": 9,
      "metadata": {
        "colab": {
          "base_uri": "https://localhost:8080/"
        },
        "id": "abvTADknUHqN",
        "outputId": "e4086598-5a46-4f3a-ebf9-7534ccbc976a"
      },
      "outputs": [
        {
          "name": "stdout",
          "output_type": "stream",
          "text": [
            "{'1000': [0], '1001': [1, 0], '1002': [1, 1, 0], '1003': [1, 1, 1]}\n"
          ]
        }
      ],
      "source": [
        "print(tree2code(code2tree({'0':[1], '1':[0,1], '2':[0,0,1], '3':[0,0,0]})))"
      ]
    },
    {
      "cell_type": "markdown",
      "metadata": {
        "id": "g8O99IYWUHqN"
      },
      "source": [
        "These problems are all solved when using the extended tree format."
      ]
    },
    {
      "cell_type": "code",
      "execution_count": 10,
      "metadata": {
        "colab": {
          "base_uri": "https://localhost:8080/"
        },
        "id": "BdmSERHpUHqN",
        "outputId": "6c5a7de0-d0e9-4cda-cc5b-bc47bcf6c854"
      },
      "outputs": [
        {
          "name": "stdout",
          "output_type": "stream",
          "text": [
            "[[3, [], 'a'], [3, [], 'b'], [4, [], 'c'], [4, [0, 1], '1003'], [-1, [2, 3], '1004']]\n"
          ]
        }
      ],
      "source": [
        "xt = tree2xtree([3,3,4,4,-1], ['a', 'b', 'c'])\n",
        "print(xt)"
      ]
    },
    {
      "cell_type": "code",
      "execution_count": 11,
      "metadata": {
        "colab": {
          "base_uri": "https://localhost:8080/"
        },
        "id": "qwKVQ9kNUHqN",
        "outputId": "943e386f-bfcb-4fff-b68d-d0348e0a59a3"
      },
      "outputs": [
        {
          "name": "stdout",
          "output_type": "stream",
          "text": [
            "{'0': [1], '1': [0, 1], '2': [0, 0, 1], '3': [0, 0, 0]}\n"
          ]
        }
      ],
      "source": [
        "print(xtree2code(code2xtree({'0':[1], '1':[0,1], '2':[0,0,1], '3':[0,0,0]})))"
      ]
    },
    {
      "cell_type": "markdown",
      "metadata": {
        "id": "gDOSbrZoUHqN"
      },
      "source": [
        "## Testing your Shannon-Fano Code"
      ]
    },
    {
      "cell_type": "markdown",
      "metadata": {
        "id": "WGgG-xJ0WChd"
      },
      "source": [
        "The following cell contains a partial implementation of the Shannon Fano code. Some commands are missing and you must complete the function definition before you can proceed to the subsequent cells."
      ]
    },
    {
      "cell_type": "code",
      "execution_count": 91,
      "metadata": {
        "id": "1Y00ZOWaWBu8"
      },
      "outputs": [],
      "source": [
        "## The function definition below is INCOMPLETE. You must complete it before you\n",
        "## can proceed to the subsequent commands in this notebook.\n",
        "\n",
        "from math import log2, ceil\n",
        "\n",
        "def shannon_fano(p):\n",
        "\n",
        "    # Begin by sorting the probabilities in decreasing order, as required\n",
        "    # in Shannon's paper.\n",
        "    p = dict(sorted([(a,p[a]) for a in p if p[a]>0.0], key = lambda el: el[1], reverse = True))\n",
        "\n",
        "    # Compute the cumulative probability distribution\n",
        "    # this can be done easily with numpy.cumsum but we will do it by hand. Note\n",
        "    # that this is not a time-critical operation so efficiency is not an issue.\n",
        "\n",
        "    # step 1: initialise f to be a list with one element 0 (this is because Shannon\n",
        "    # requires the cumulative probability to be the sum up to AND EXCLUDING the current\n",
        "    # symbol, so the first element of f should be zero.\n",
        "\n",
        "    f=[0]\n",
        "\n",
        "    # step 2: compute the runninng sum\n",
        "    for a in p: # for every probability in p\n",
        "        # you now want to append to f the sum of its last entry (which you can access as [-1])\n",
        "        # and the probability p[a] of the current symbol\n",
        "\n",
        "        f.append(f[-1] + p[a])\n",
        "\n",
        "    # the resulting cumulative has one too many element at the end, the sum of all probabilities\n",
        "    # that should equal to one. You can use the \"pop\" command to delete the last element in a list.\n",
        "\n",
        "    f.pop()\n",
        "\n",
        "    # We now convert the list you computed into a dictionary\n",
        "    f = dict([(a,mf) for a,mf in zip(p,f)])\n",
        "\n",
        "    # assign the codewords\n",
        "    code = {} # initialise as an empty dictionary\n",
        "    for a in p: # for each probability\n",
        "\n",
        "        # Compute the codeword length according to the Shannon-Fano formula\n",
        "        # you want to use the functions \"ceil()\" and \"log2()\" we imported\n",
        "        # from the math library\n",
        "        length = ceil(log2(1/p[a]))\n",
        "        # (assign variable name \"length\")\n",
        "\n",
        "        codeword = [] # initialise current codeword\n",
        "        myf = f[a]\n",
        "        # for each position in length, we will multiply myf by 2 and take the\n",
        "        # integral part as our binary digit\n",
        "        for pos in range(length):\n",
        "            # multiply myf by 2 (shifting it \"left\" in binary)\n",
        "            myf *= 2\n",
        "\n",
        "            # if the resulting myf is larger than 1, append a 1 to the codeword,\n",
        "            # whereas if it is smaller than 1 you should append a 0\n",
        "            # If it is larger than 1, you sould also substratct 1 from myf.\n",
        "            if myf > 1:\n",
        "                codeword.append(1)\n",
        "                myf -= 1\n",
        "            elif myf < 1:\n",
        "                codeword.append(0)\n",
        "        code[a] = codeword # assign the codeword\n",
        "\n",
        "    return code # return the code table\n"
      ]
    },
    {
      "cell_type": "markdown",
      "metadata": {
        "id": "5Nx3KWcTUHqO"
      },
      "source": [
        "This next section can only be completed once you have a working Shannon-Fano function `shannon_fano()`"
      ]
    },
    {
      "cell_type": "code",
      "execution_count": 92,
      "metadata": {
        "colab": {
          "base_uri": "https://localhost:8080/"
        },
        "id": "WSniNiwLUHqP",
        "outputId": "c9319120-0dba-415f-e36a-c0b3af4c252e"
      },
      "outputs": [
        {
          "name": "stdout",
          "output_type": "stream",
          "text": [
            "Probability distribution: {'a': 0.06847578882635348, 'b': 0.025512458830769254, 'c': 0.09238658577777444, 'd': 0.05129255622047088, 'e': 0.043214388965483914, 'f': 0.0671588681532128, 'g': 0.0693413209905577, 'h': 0.08339699971611861, 'i': 0.10980171382519781, 'j': 0.08752820276272134, 'k': 0.02188929138268634, 'l': 0.12388119118491432, 'm': 0.045563319692388624, 'n': 0.022421709274679045, 'o': 0.05216568731652513, 'p': 0.0359699170801465}\n",
            "\n",
            "Codebook: {'l': [0, 0, 0, 0], 'i': [0, 0, 0, 1], 'c': [0, 0, 1, 1], 'j': [0, 1, 0, 1], 'h': [0, 1, 1, 0], 'g': [0, 1, 1, 1], 'a': [1, 0, 0, 1], 'f': [1, 0, 1, 0], 'o': [1, 0, 1, 1, 0], 'd': [1, 1, 0, 0, 0], 'm': [1, 1, 0, 0, 1], 'e': [1, 1, 0, 1, 1], 'p': [1, 1, 1, 0, 0], 'b': [1, 1, 1, 0, 1, 1], 'n': [1, 1, 1, 1, 0, 1], 'k': [1, 1, 1, 1, 1, 0]}\n",
            "\n",
            "Cut and paste for phylo.io: ((((l,i)3,(c)4)2,((j)6,(h,g)7)5)1,(((a)10,(f,(o)12)11)9,(((d,m)15,(e)16)14,((p,(b)19)18,((n)21,(k)22)20)17)13)8)0\n"
          ]
        }
      ],
      "source": [
        "from random import random\n",
        "p = [random() for k in range(16)]\n",
        "p = dict([(chr(k+ord('a')),p[k]/sum(p)) for k in range(len(p))])\n",
        "print(f'Probability distribution: {p}\\n')\n",
        "c = shannon_fano(p)\n",
        "print(f'Codebook: {c}\\n')\n",
        "xt = code2xtree(c)\n",
        "print(f'Cut and paste for phylo.io: {xtree2newick(xt)}')"
      ]
    },
    {
      "cell_type": "markdown",
      "metadata": {
        "id": "klmpvVkYUHqP"
      },
      "source": [
        "We can upload data from a file, for example `hamlet.txt`, and display the first few lines...\n",
        "\n",
        "Before you execute the next cell, make sure `hamlet.txt` is accessible: if using this Jupyter notebook on your computer, make sure the file is in the same director. If you using this Jupyter notebook on Google Colabs, click on the folder symbol on the left and upload the file to the session folder (the file gets deleted if you start a new session so you might have to do this every time.)"
      ]
    },
    {
      "cell_type": "code",
      "execution_count": 93,
      "metadata": {
        "colab": {
          "base_uri": "https://localhost:8080/"
        },
        "id": "us9R5OJ7UHqP",
        "outputId": "47056df9-e1f3-4dcf-b294-6b880c142a38"
      },
      "outputs": [
        {
          "name": "stdout",
          "output_type": "stream",
          "text": [
            "        HAMLET\n",
            "\n",
            "\n",
            "        DRAMATIS PERSONAE\n",
            "\n",
            "\n",
            "CLAUDIUS        king of Denmark. (KING CLAUDIUS:)\n",
            "\n",
            "HAMLET  son to the late, and nephew to the present king.\n",
            "\n",
            "POLONIUS        lord chamberlain. (LORD POLONIUS:)\n",
            "\n",
            "HORATIO friend to Hamlet.\n",
            "\n",
            "LAERTES son to Polonius.\n",
            "\n",
            "LUCIANUS        nephew to the king.\n"
          ]
        }
      ],
      "source": [
        "f = open('hamlet.txt', 'r')\n",
        "hamlet = f.read()\n",
        "f.close()\n",
        "print(hamlet[:294])"
      ]
    },
    {
      "cell_type": "markdown",
      "metadata": {
        "id": "xDr98z5aUHqP"
      },
      "source": [
        "We now compute the startistics of the file:"
      ]
    },
    {
      "cell_type": "code",
      "execution_count": 94,
      "metadata": {
        "colab": {
          "base_uri": "https://localhost:8080/"
        },
        "id": "tGyy188jUHqP",
        "outputId": "d145344b-0e27-467e-94d1-a017882e79ae"
      },
      "outputs": [
        {
          "name": "stdout",
          "output_type": "stream",
          "text": [
            "File length: 207039\n"
          ]
        }
      ],
      "source": [
        "from itertools import groupby\n",
        "frequencies = dict([(key, len(list(group))) for key, group in groupby(sorted(hamlet))])\n",
        "Nin = sum([frequencies[a] for a in frequencies])\n",
        "p = dict([(a,frequencies[a]/Nin) for a in frequencies])\n",
        "print(f'File length: {Nin}')"
      ]
    },
    {
      "cell_type": "markdown",
      "metadata": {
        "id": "2DsxPU3lUHqQ"
      },
      "source": [
        "We can view the alphabet of symbols used in the file:"
      ]
    },
    {
      "cell_type": "code",
      "execution_count": 97,
      "metadata": {
        "colab": {
          "base_uri": "https://localhost:8080/"
        },
        "id": "lbtC6aMYUHqQ",
        "outputId": "18bd5cc2-66b1-4e4b-9b40-e70a5ea0f964"
      },
      "outputs": [
        {
          "name": "stdout",
          "output_type": "stream",
          "text": [
            "['\\n', ' ', '!', '&', \"'\", '(', ')', ',', '-', '.', ':', ';', '?', 'A', 'B', 'C', 'D', 'E', 'F', 'G', 'H', 'I', 'J', 'K', 'L', 'M', 'N', 'O', 'P', 'Q', 'R', 'S', 'T', 'U', 'V', 'W', 'Y', 'Z', '[', ']', 'a', 'b', 'c', 'd', 'e', 'f', 'g', 'h', 'i', 'j', 'k', 'l', 'm', 'n', 'o', 'p', 'q', 'r', 's', 't', 'u', 'v', 'w', 'x', 'y', 'z', '|']\n",
            "67\n"
          ]
        }
      ],
      "source": [
        "print(list(p))\n",
        "print(len(p))"
      ]
    },
    {
      "cell_type": "markdown",
      "metadata": {
        "id": "t3idaME3UHqQ"
      },
      "source": [
        "We are now ready to construct the Shannon-Fano code for this file, and view its tree (cut and paste into [phylo.io](https://phylo.io), don't forget to add a carriage return at the end, click on \"Branch Labels/Support\" under \"Settings\", then right-click on the root of the tree and select \"expand all\"."
      ]
    },
    {
      "cell_type": "code",
      "execution_count": 98,
      "metadata": {
        "colab": {
          "base_uri": "https://localhost:8080/"
        },
        "id": "r6Kes8upUHqQ",
        "outputId": "42afcce9-a207-4a3a-eb1e-bd66db01ed83"
      },
      "outputs": [
        {
          "name": "stdout",
          "output_type": "stream",
          "text": [
            "67\n",
            "166\n",
            "((space,((e,(t)4)3,((o)6,(a,s)7)5)2)1,((((n)11,(h,i)12)10,((r,(carriage return)15)14,((l)17,(d)18)16)13)9,((((u,m)22,(comma,(y)24)23)21,(((w)27,(f)28)26,((c,g)30,(p)31)29)25)20,(((((A)36,(b,T)37)35,((I)39,(E)40)38)34,(((.)43,(L)44)42,((v)46,(k,O)47)45)41)33,((((')51,(H,R)52)50,((N,(S)55)54,((U)57,(M)58)56)53)49,((((semi-colon,colon)62,(D)63)61,((C,G)65,(W,?)66)64)60,(((-,(P)70)69,((!)72,(left square bracket,right square bracket)73)71)68,(((B,F)76,((x,K)78)77)75,(((q)81,(Y,(j)83)82)80,(((Q)86,(Z)87)85,((z,(vertical bar)90)89,((V)92,((left parenthesis,right parenthesis)94,((J)96,((&)98)97)95)93)91)88)84)79)74)67)59)48)32)19)8)0\n",
            "16\n"
          ]
        }
      ],
      "source": [
        "c = shannon_fano(p)\n",
        "print(len(c))\n",
        "xt = code2xtree(c)\n",
        "print(len(xt))\n",
        "print(xtree2newick(xt))\n",
        "print(len(c['&']))"
      ]
    },
    {
      "cell_type": "markdown",
      "metadata": {
        "id": "NQzqdDaiYude"
      },
      "source": [
        "The following defines a number of library functions to encode and decode variable length codes using a code table/tree. You can ignore the details of these programmes."
      ]
    },
    {
      "cell_type": "code",
      "execution_count": 30,
      "metadata": {
        "id": "J-V6aBNUYuQM"
      },
      "outputs": [],
      "source": [
        "## Please ignore the details of this cell, it contains in-line  library function definitions\n",
        "\n",
        "\n",
        "def bits2bytes(x):\n",
        "    n = len(x)+3\n",
        "    r = (8 - n % 8) % 8\n",
        "    prefix = format(r, '03b')\n",
        "    x = ''.join(str(a) for a in x)\n",
        "    suffix = '0'*r\n",
        "    x = prefix + x + suffix\n",
        "    x = [x[k:k+8] for k in range(0,len(x),8)]\n",
        "    y = []\n",
        "    for a in x:\n",
        "        y.append(int(a,2))\n",
        "\n",
        "    return y\n",
        "\n",
        "def bytes2bits(y):\n",
        "    x = [format(a, '08b') for a in y]\n",
        "    r = int(x[0][0:3],2)\n",
        "    x = ''.join(x)\n",
        "    x = [int(a) for a in x]\n",
        "    for k in range(3):\n",
        "        x.pop(0)\n",
        "    for k in range(r):\n",
        "        x.pop()\n",
        "    return x\n",
        "\n",
        "\n",
        "def vl_encode(x, c):\n",
        "    y = []\n",
        "    for a in x:\n",
        "        y.extend(c[a])\n",
        "    return y\n",
        "\n",
        "\n",
        "def vl_decode(y, xt):\n",
        "    x = []\n",
        "    root = [k for k in range(len(xt)) if xt[k][0]==-1]\n",
        "    if len(root) != 1:\n",
        "        raise NameError('Tree with no or multiple roots!')\n",
        "    root = root[0]\n",
        "    leaves = [k for k in range(len(xt)) if len(xt[k][1]) == 0]\n",
        "\n",
        "    n = root\n",
        "    for k in y:\n",
        "        if len(xt[n][1]) < k:\n",
        "            raise NameError('Symbol exceeds alphabet size in tree node')\n",
        "        if xt[n][1][k] == -1:\n",
        "            raise NameError('Symbol not assigned in tree node')\n",
        "        n = xt[n][1][k]\n",
        "        if len(xt[n][1]) == 0: # it's a leaf!\n",
        "            x.append(xt[n][2])\n",
        "            n = root\n",
        "    return x"
      ]
    },
    {
      "cell_type": "markdown",
      "metadata": {
        "id": "4kQ2Q4PxUHqQ"
      },
      "source": [
        "Now we can actually encode the file `hamlet.txt` using the Shannon-Fano code we constructed."
      ]
    },
    {
      "cell_type": "code",
      "execution_count": 31,
      "metadata": {
        "colab": {
          "base_uri": "https://localhost:8080/"
        },
        "id": "vH_C-Z-qUHqQ",
        "outputId": "bf5f5a84-8386-433a-968b-e93846e28a64"
      },
      "outputs": [
        {
          "name": "stdout",
          "output_type": "stream",
          "text": [
            "Length of binary sequence: 997548\n"
          ]
        }
      ],
      "source": [
        "hamlet_sf = vl_encode(hamlet, c)\n",
        "print(f'Length of binary sequence: {len(hamlet_sf)}')"
      ]
    },
    {
      "cell_type": "markdown",
      "metadata": {
        "id": "QjNysCnrUHqQ"
      },
      "source": [
        "We have commands to convert a bit sequence into a byte sequence (including a 3 bit prefix that helps us determine the length of the bit sequence):"
      ]
    },
    {
      "cell_type": "code",
      "execution_count": 101,
      "metadata": {
        "colab": {
          "base_uri": "https://localhost:8080/"
        },
        "id": "fZC5RKJZUHqQ",
        "outputId": "a917765f-7a18-4ed4-df1c-97f90373b754"
      },
      "outputs": [
        {
          "name": "stdout",
          "output_type": "stream",
          "text": [
            "['01101000']\n",
            "The original bits are: [0, 1]\n",
            "[141, 128]\n"
          ]
        }
      ],
      "source": [
        "x = bits2bytes([0,1])\n",
        "print([format(a, '08b') for a in x])\n",
        "y = bytes2bits(x)\n",
        "print(f'The original bits are: {y}')\n",
        "print(bits2bytes([0,1,1,0,1,1,0,0,0]))"
      ]
    },
    {
      "cell_type": "markdown",
      "metadata": {
        "id": "Y93RTK_UUHqR"
      },
      "source": [
        "We now apply the bits to byte conversion to the compressed text of Hamlet to compute the length of the compressed file."
      ]
    },
    {
      "cell_type": "code",
      "execution_count": 33,
      "metadata": {
        "colab": {
          "base_uri": "https://localhost:8080/"
        },
        "id": "Xy8SeCSQUHqS",
        "outputId": "fcef188e-8f7a-423e-cf34-d1de1b0b5f09"
      },
      "outputs": [
        {
          "name": "stdout",
          "output_type": "stream",
          "text": [
            "Length of compressed string: 124694\n"
          ]
        }
      ],
      "source": [
        "hamlet_zipped = bits2bytes(hamlet_sf)\n",
        "Nout = len(hamlet_zipped)\n",
        "print(f'Length of compressed string: {Nout}')"
      ]
    },
    {
      "cell_type": "markdown",
      "metadata": {
        "id": "am83UXw1UHqS"
      },
      "source": [
        "The compression ratio can be expressed in two ways, unitless or in bits/bytes:"
      ]
    },
    {
      "cell_type": "code",
      "execution_count": 34,
      "metadata": {
        "colab": {
          "base_uri": "https://localhost:8080/"
        },
        "id": "VbX675WzUHqS",
        "outputId": "92e2963d-677b-47c4-ad57-da1e2ed055d5"
      },
      "outputs": [
        {
          "name": "stdout",
          "output_type": "stream",
          "text": [
            "Compression ratio (rateless): 0.6022730017049928\n",
            "Compression ratio (bits per byte): 4.818184013639942\n"
          ]
        }
      ],
      "source": [
        "print(f'Compression ratio (rateless): {Nout/Nin}')\n",
        "print(f'Compression ratio (bits per byte): {8.0*Nout/Nin}')"
      ]
    },
    {
      "cell_type": "markdown",
      "metadata": {
        "id": "dv4NX4Q_UHqS"
      },
      "source": [
        "The lower bound for compression is the Entropy, measured in bits, that can be computed using an in-line function in Python:"
      ]
    },
    {
      "cell_type": "code",
      "execution_count": 35,
      "metadata": {
        "colab": {
          "base_uri": "https://localhost:8080/"
        },
        "id": "E6V6_Wc6UHqS",
        "outputId": "e73f2284-92af-432d-9d68-e02bb06f9df4"
      },
      "outputs": [
        {
          "name": "stdout",
          "output_type": "stream",
          "text": [
            "Entropy: 4.449863631694343\n"
          ]
        }
      ],
      "source": [
        "from math import log2\n",
        "H = lambda pr: -sum([pr[a]*log2(pr[a]) for a in pr])\n",
        "print(f'Entropy: {H(p)}')"
      ]
    },
    {
      "cell_type": "markdown",
      "metadata": {
        "id": "TDKc1TkcUHqS"
      },
      "source": [
        "We now proceed to decode the compressed Hamlet sequence"
      ]
    },
    {
      "cell_type": "code",
      "execution_count": 36,
      "metadata": {
        "colab": {
          "base_uri": "https://localhost:8080/"
        },
        "id": "5W2QVU26UHqT",
        "outputId": "5f661d8d-8ba3-4d6d-d967-db71a60efe2f"
      },
      "outputs": [
        {
          "name": "stdout",
          "output_type": "stream",
          "text": [
            "Length of unzipped file: 207039\n"
          ]
        }
      ],
      "source": [
        "xt = code2xtree(c)\n",
        "hamlet_unzipped = vl_decode(hamlet_sf, xt)\n",
        "print(f'Length of unzipped file: {len(hamlet_unzipped)}')"
      ]
    },
    {
      "cell_type": "markdown",
      "metadata": {
        "id": "f1KbmhYjUHqT"
      },
      "source": [
        "We can view the first few lines of the input (note the command `join` that turns the list of strings into one string)"
      ]
    },
    {
      "cell_type": "code",
      "execution_count": 37,
      "metadata": {
        "colab": {
          "base_uri": "https://localhost:8080/"
        },
        "id": "_TW6Iis0UHqT",
        "outputId": "17d310b1-0269-46a5-fc23-d977c1fe61e6"
      },
      "outputs": [
        {
          "name": "stdout",
          "output_type": "stream",
          "text": [
            "        HAMLET\n",
            "\n",
            "\n",
            "        DRAMATIS PERSONAE\n",
            "\n",
            "\n",
            "CLAUDIUS        king of Denmark. (KING CLAUDIUS:)\n",
            "\n",
            "HAMLET  son to the late, and nephew to the present king.\n",
            "\n",
            "POLONIUS        lord chamberlain. (LORD POLONIUS:)\n",
            "\n",
            "HORATIO friend to Hamlet.\n",
            "\n",
            "LAERTES son to Polonius.\n",
            "\n",
            "LUCIANUS        nephew to the king.\n"
          ]
        }
      ],
      "source": [
        "print(''.join(hamlet_unzipped[:294]))"
      ]
    },
    {
      "cell_type": "markdown",
      "metadata": {
        "id": "M6ukPCQFUHqT"
      },
      "source": [
        "## Compressing and uncompressing files"
      ]
    },
    {
      "cell_type": "markdown",
      "metadata": {
        "id": "c8-vFXb1UHqT"
      },
      "source": [
        "This is where we put it all together, compressing directly from input to output file. Play around with these commands once you implemented Huffman coding and arithmetic coding. We begin by defining the compression and decompression library functions. You can ignore the details of these function definitions."
      ]
    },
    {
      "cell_type": "code",
      "execution_count": 87,
      "metadata": {
        "id": "xBVm0qjIUHqU"
      },
      "outputs": [],
      "source": [
        "## Please ignore the details of this cell, it contains in-line  library function definitions\n",
        "\n",
        "from json import dump,load\n",
        "from sys import argv,exit\n",
        "\n",
        "def camzip(method, filename):\n",
        "\n",
        "    with open(filename, 'rb') as fin:\n",
        "        x = fin.read()\n",
        "\n",
        "    frequencies = dict([(key, len(list(group))) for key, group in groupby(sorted(x))])\n",
        "    n = sum([frequencies[a] for a in frequencies])\n",
        "    p = dict([(a,frequencies[a]/n) for a in frequencies])\n",
        "\n",
        "    if method == 'huffman' or method == 'shannon_fano':\n",
        "        if (method == 'huffman'):\n",
        "            xt = huffman(p)\n",
        "            c = xtree2code(xt)\n",
        "        else:\n",
        "            c = shannon_fano(p)\n",
        "            xt = code2xtree(c)\n",
        "\n",
        "        y = vl_encode(x, c)\n",
        "\n",
        "    elif method == 'arithmetic':\n",
        "        y = arithmetic.encode(x,p)\n",
        "\n",
        "    else:\n",
        "        raise NameError('Compression method %s unknown' % method)\n",
        "\n",
        "\n",
        "    y = bytes(bits2bytes(y))\n",
        "\n",
        "    outfile = filename + '.cz' + method[0]\n",
        "\n",
        "    with open(outfile, 'wb') as fout:\n",
        "        fout.write(y)\n",
        "\n",
        "    pfile = filename + '.czp'\n",
        "    n = len(x)\n",
        "\n",
        "    with open(pfile, 'w') as fp:\n",
        "        dump(frequencies, fp)\n",
        "\n",
        "\n",
        "def camunzip(filename):\n",
        "    if (filename[-1] == 'h'):\n",
        "        method = 'huffman'\n",
        "    elif (filename[-1] == 's'):\n",
        "        method = 'shannon_fano'\n",
        "    elif (filename[-1] == 'a'):\n",
        "        method = 'arithmetic'\n",
        "    else:\n",
        "        raise NameError('Unknown compression method')\n",
        "\n",
        "    with open(filename, 'rb') as fin:\n",
        "        y = fin.read()\n",
        "    y = bytes2bits(y)\n",
        "\n",
        "    pfile = filename[:-1] + 'p'\n",
        "    with open(pfile, 'r') as fp:\n",
        "        frequencies = load(fp)\n",
        "    n = sum([frequencies[a] for a in frequencies])\n",
        "    p = dict([(int(a),frequencies[a]/n) for a in frequencies])\n",
        "\n",
        "    if method == 'huffman' or method == 'shannon_fano':\n",
        "        if (method == 'huffman'):\n",
        "            xt = huffman(p)\n",
        "            c = xtree2code(xt)\n",
        "        else:\n",
        "            c = shannon_fano(p)\n",
        "            xt = code2xtree(c)\n",
        "\n",
        "        x = vl_decode(y, xt)\n",
        "\n",
        "    elif method == 'arithmetic':\n",
        "        x = arithmetic.decode(y,p,n)\n",
        "\n",
        "    else:\n",
        "        raise NameError('This will never happen (famous last words)')\n",
        "\n",
        "    # '.cuz' for Cam UnZipped (don't want to overwrite the original file...)\n",
        "    outfile = filename[:-4] + '.cuz'\n",
        "\n",
        "    with open(outfile, 'wb') as fout:\n",
        "        fout.write(bytes(x))\n"
      ]
    },
    {
      "cell_type": "markdown",
      "metadata": {
        "id": "W0rMwLnMUHqU"
      },
      "source": [
        "The next commands define the method to be used and the filename. Modify those when you are trying other methods on various files."
      ]
    },
    {
      "cell_type": "code",
      "execution_count": 88,
      "metadata": {
        "id": "WnMXoUpxUHqU"
      },
      "outputs": [],
      "source": [
        "method = 'shannon_fano'\n",
        "filename = 'hamlet.txt'"
      ]
    },
    {
      "cell_type": "markdown",
      "metadata": {
        "id": "4RwdcXycUHqU"
      },
      "source": [
        "Now we do the actual compression and decompression..."
      ]
    },
    {
      "cell_type": "code",
      "execution_count": 89,
      "metadata": {
        "id": "x8KXfgkoUHqU"
      },
      "outputs": [],
      "source": [
        "camzip(method, filename)\n",
        "camunzip(filename + '.cz' + method[0])"
      ]
    },
    {
      "cell_type": "markdown",
      "metadata": {
        "id": "9jPDwNI_UHqU"
      },
      "source": [
        "The next few lines perform various statistical measurements and verifies that the decompressed file is identical to the compressed file."
      ]
    },
    {
      "cell_type": "code",
      "execution_count": 90,
      "metadata": {
        "colab": {
          "base_uri": "https://localhost:8080/"
        },
        "id": "5Hx34E3GUHqU",
        "outputId": "bed15490-ac07-41e5-dca4-b28093a28da8"
      },
      "outputs": [
        {
          "name": "stdout",
          "output_type": "stream",
          "text": [
            "Length of original file: 207039 bytes\n",
            "Length of compressed file: 124694 bytes\n",
            "Compression rate: 4.818184013639942 bits/byte\n",
            "Entropy: 4.449863631694343 bits per symbol\n",
            "The two files are the same\n"
          ]
        }
      ],
      "source": [
        "from filecmp import cmp\n",
        "from os import stat\n",
        "from json import load\n",
        "Nin = stat(filename).st_size\n",
        "print(f'Length of original file: {Nin} bytes')\n",
        "Nout = stat(filename + '.cz' + method[0]).st_size\n",
        "print(f'Length of compressed file: {Nout} bytes')\n",
        "print(f'Compression rate: {8.0*Nout/Nin} bits/byte')\n",
        "with open(filename + '.czp', 'r') as fp:\n",
        "    freq = load(fp)\n",
        "pf = dict([(a, freq[a]/Nin) for a in freq])\n",
        "print(f'Entropy: {H(pf)} bits per symbol')\n",
        "if cmp(filename,filename+'.cuz'):\n",
        "    print('The two files are the same')\n",
        "else:\n",
        "    print('The files are different')"
      ]
    },
    {
      "cell_type": "markdown",
      "metadata": {
        "id": "Hqd7CljMUHqU"
      },
      "source": [
        "## Huffman coding"
      ]
    },
    {
      "cell_type": "markdown",
      "metadata": {
        "id": "JXIdROWcatp1"
      },
      "source": [
        "The following cell contains a partial implementation of the Huffman code. Some commands are missing and you must complete the function definition before you can proceed to the subsequent cells."
      ]
    },
    {
      "cell_type": "code",
      "execution_count": 102,
      "metadata": {
        "id": "beSveVxUathR"
      },
      "outputs": [],
      "source": [
        "## The function definition below is INCOMPLETE. You must complete it before you\n",
        "## can proceed to the subsequent commands in this notebook.\n",
        "\n",
        "def huffman(p):\n",
        "    # create an xtree with all the source symbols (to be the leaves) initially orphaned\n",
        "    xt = [[-1,[], a] for a in p]\n",
        "    # label the probabilities with a \"pointer\" to their corresponding nodes in the tree\n",
        "    # in the process, we convert the probability vector from a Python dictionary to a\n",
        "    # list of tuples (so we can modify it)\n",
        "    p = [(k,p[a]) for k,a in zip(range(len(p)),p)]\n",
        "\n",
        "    # the leaves are labeled according to the symbols in the probability vector. We will\n",
        "    # label the remaining tree nodes (mainly for visualisation purposes) with numbers\n",
        "    # starting at len(p)\n",
        "    nodelabel = len(p)\n",
        "\n",
        "    # this loop will gradually increase the tree and reduce the probability list.\n",
        "    # It will run until there is only one probability left in the list (which probability\n",
        "    # will by then be 1.0)\n",
        "    while len(p) > 1:\n",
        "        # sort probabilities in ascending order (so [0] and [1] are smallest)\n",
        "        # using the command \"sorted\" and, as its second element, the expression\n",
        "        #  \"key = lambda el:el[1]\" (which is an inline function to retrieve the\n",
        "        # second entry from a tuple.) Note that the natural order of \"sorted\" is\n",
        "        # increasing, which is as you want it in this case.\n",
        "        # The output of sorted() can be written back to p (i.e. p = sorted(p, ....))\n",
        "        p = sorted(p, key = lambda el:el[1])\n",
        "\n",
        "        # Now append a new node to the tree xt with no parent (parent = -1),\n",
        "        # no children (children = []) and label str(nodelabel)\n",
        "        xt.append([-1,[],nodelabel])\n",
        "\n",
        "        # we incrase the variable nodelabel by 1 for its next use\n",
        "        nodelabel += 1\n",
        "\n",
        "        # assign parent of the nodes pointed to by the smallest probabilities\n",
        "        # Note that the smallest probabilities are now p[0] and p[1], so their\n",
        "        # pointers to nodes in xt are p[0][0] and p[1][0]. The corresponding\n",
        "        # xt nodes should be assigned the new node you created as a parent,\n",
        "        # whose index is len(xt)-1 since it has been appended at the end of xt\n",
        "        xt[p[0][0]][0] = len(xt) - 1\n",
        "        xt[p[1][0]][0] = len(xt) - 1\n",
        "\n",
        "        # assign the children of new node to be the nodes pointed to by\n",
        "        # p[0] and p[1]. Note that the new node can be addressed as xt[-1]\n",
        "        xt[-1][1] = [p[0][0], p[1][0]]\n",
        "\n",
        "        # create a new entry pointing to the new node in the list of probabilities\n",
        "        # This new entry should be a tuple with len(xt)-1 as its first element,\n",
        "        # and the sum of the probabilities in p[0] and p[1] as its second element\n",
        "        p.append((len(xt)-1, p[0][1]+p[1][1]))\n",
        "\n",
        "        # remove the two nodes with the smallest probability\n",
        "        p.pop(0)\n",
        "        p.pop(0)\n",
        "        # (using pop(0) twice removes the first element of the list twice\n",
        "        # and hence removes the first 2 elements.)\n",
        "\n",
        "    return(xt)\n",
        "\n",
        "\n",
        "\n"
      ]
    },
    {
      "cell_type": "markdown",
      "metadata": {
        "id": "p7bNxJGXUHqV"
      },
      "source": [
        "This section will only work once you have a working function `huffman()`. We first repeat the tree construction and visualisation."
      ]
    },
    {
      "cell_type": "code",
      "execution_count": 103,
      "metadata": {
        "colab": {
          "base_uri": "https://localhost:8080/"
        },
        "id": "JJOs5C-DUHqV",
        "outputId": "dadee094-4e60-4da5-b7ef-864992d7f7db"
      },
      "outputs": [
        {
          "name": "stdout",
          "output_type": "stream",
          "text": [
            "((((a,(((v,L)96,c)105,d)113)121,(((f,((M,(P,((Z,(V,(right parenthesis,((&,J)67,left parenthesis)68)69)70)72,x)76)81)88,.)97)106,l)114,o)122)127,((t,((w,((U,S)89,E)98)107,carriage return)115)123,((((I,T)99,y)108,((b,A)100,comma)109)116,(((((((Q,(vertical bar,z)71)73,(j,Y)74)77,-)82,N)90,p)101,(((?,W)83,R)91,((G,(F,B)78)84,H)92)102)110,r)117)124)128)130,(space,((e,(i,(m,((',(C,(left square bracket,right square bracket)79)85)93,g)103)111)118)125,((h,n)119,(s,(u,(((D,colon)86,O)94,(k,(((q,K)75,!)80,semi-colon)87)95)104)112)120)126)129)131)132\n"
          ]
        }
      ],
      "source": [
        "xt = huffman(p)\n",
        "print(xtree2newick(xt))"
      ]
    },
    {
      "cell_type": "code",
      "execution_count": 104,
      "metadata": {
        "colab": {
          "base_uri": "https://localhost:8080/"
        },
        "id": "oaJuWUrfUHqV",
        "outputId": "f8ec21e9-9ff3-4ccf-ce74-3f84e1dfb75d"
      },
      "outputs": [
        {
          "data": {
            "text/plain": [
              "{'a': [0], 'b': [1, 1, 1], 'c': [1, 0], 'd': [1, 1, 0]}"
            ]
          },
          "execution_count": 104,
          "metadata": {},
          "output_type": "execute_result"
        }
      ],
      "source": [
        "xtree2code(huffman({'a':.5, 'b':.25, 'c':.25, 'd':0}))"
      ]
    },
    {
      "cell_type": "markdown",
      "metadata": {
        "id": "j3TloOzBUHqV"
      },
      "source": [
        "Observe how the Huffman tree differs from the Shannon-Fano tree. What are its shortest and its longest codeword? You can use the `camzip` code above changing the method to `'huffman'` to test the compression rate etc. You may also want to do it by hand to test the error resilience:"
      ]
    },
    {
      "cell_type": "code",
      "execution_count": 48,
      "metadata": {
        "colab": {
          "base_uri": "https://localhost:8080/"
        },
        "id": "N7Ymb99aUHqV",
        "outputId": "d5f57c09-9618-4860-9786-0c8cff453585"
      },
      "outputs": [
        {
          "name": "stdout",
          "output_type": "stream",
          "text": [
            "        HAMLET\n",
            "\n",
            "\n",
            "        DRAMATIS PERSONAE\n",
            "\n",
            "\n",
            "CLAUDIUS        king of Denmark. (KING CLAUDIUS:)\n",
            "\n",
            "HAMLET  son to the late, and nephew to the present king.\n",
            "\n",
            "POLONIUS        lord chamberlain. (LORD POLONIUS:)\n",
            "\n",
            "HORATIO friend to Hamlet.\n",
            "\n",
            "LAERTES son to Polonius.\n",
            "\n",
            "LUCIANUS        nephew to the king.\n"
          ]
        }
      ],
      "source": [
        "c = xtree2code(xt)\n",
        "hamlet_huf = vl_encode(hamlet, c)\n",
        "hamlet_decoded = vl_decode(hamlet_huf, xt)\n",
        "print(''.join(hamlet_decoded[:294]))"
      ]
    },
    {
      "cell_type": "markdown",
      "metadata": {
        "id": "TMRvUID7UHqV"
      },
      "source": [
        "We now introduce a random bit flip (bit 400 flipped) in the compressed sequence and observe the result."
      ]
    },
    {
      "cell_type": "code",
      "execution_count": 49,
      "metadata": {
        "colab": {
          "base_uri": "https://localhost:8080/"
        },
        "id": "W8v6HNQeUHqV",
        "outputId": "52e3ee66-6d4a-456f-b0a3-e2af18a00867"
      },
      "outputs": [
        {
          "name": "stdout",
          "output_type": "stream",
          "text": [
            "        HAMLET\n",
            "\n",
            "\n",
            "        DRAMATIS PERSONAE\n",
            "\n",
            "\n",
            "CLAUDIUS        king of Denmark. y,; \n",
            "aNG CLAUDIUS:)\n",
            "\n",
            "HAMLET  son to the late, and nephew to the present king.\n",
            "\n",
            "POLONIUS        lord chamberlain. (LORD POLONIUS:)\n",
            "\n",
            "HORATIO friend to Hamlet.\n",
            "\n",
            "LAERTES son to Polonius.\n",
            "\n",
            "LUCIANUS        nephew to the king.\n"
          ]
        }
      ],
      "source": [
        "hamlet_corrupted = hamlet_huf.copy()\n",
        "hamlet_corrupted[400] ^= 1\n",
        "hamlet_decoded = vl_decode(hamlet_corrupted, xt)\n",
        "print(''.join(hamlet_decoded[:297]))"
      ]
    },
    {
      "cell_type": "markdown",
      "metadata": {
        "id": "SKV1ai8MUHqW"
      },
      "source": [
        "## Arithmetic coding"
      ]
    },
    {
      "cell_type": "markdown",
      "metadata": {
        "id": "RxUiI1zCUHqW"
      },
      "source": [
        "We first try \"by hand\" to operate the steps of arithmetic coding using floating point numbers. We first compute the cumulative probability distribution."
      ]
    },
    {
      "cell_type": "code",
      "execution_count": 105,
      "metadata": {
        "id": "TRBgg2_DUHqW"
      },
      "outputs": [],
      "source": [
        "f = [0.0]\n",
        "for a in p:\n",
        "    f.append(f[-1]+p[a])\n",
        "f.pop()\n",
        "f = dict([(a,f[k]) for a,k in zip(p,range(len(p)))])"
      ]
    },
    {
      "cell_type": "markdown",
      "metadata": {
        "id": "ymMYeqbtUHqW"
      },
      "source": [
        "We now perform by hand the first `n=4` steps of arithmetic coding. Vary `n` to observe the loss of precision."
      ]
    },
    {
      "cell_type": "code",
      "execution_count": 106,
      "metadata": {
        "colab": {
          "base_uri": "https://localhost:8080/"
        },
        "id": "9QusYtMSUHqW",
        "outputId": "0daa393f-ea02-4e81-a6b5-f769d8f39074"
      },
      "outputs": [
        {
          "name": "stdout",
          "output_type": "stream",
          "text": [
            "lo = 0.03994572862162076, hi = 0.04551184792510039, hi-lo = 0.005566119303479632\n"
          ]
        }
      ],
      "source": [
        "lo, hi = 0.0, 1.0\n",
        "n = 4\n",
        "for k in range(n):\n",
        "    a = hamlet[k]\n",
        "    lohi_range = hi - lo\n",
        "    hi = lo + lohi_range * (f[a] + p[a])\n",
        "    lo = lo + lohi_range * f[a]\n",
        "print(f'lo = {lo}, hi = {hi}, hi-lo = {hi-lo}')"
      ]
    },
    {
      "cell_type": "markdown",
      "metadata": {
        "id": "HBjJufsxUHqW"
      },
      "source": [
        "The output sequence is roughly the binary expression of `lo` (not exactly) and we can compute and observe it. What length `ell` would we need when encoding all of Hamlet?"
      ]
    },
    {
      "cell_type": "code",
      "execution_count": 107,
      "metadata": {
        "colab": {
          "base_uri": "https://localhost:8080/"
        },
        "id": "CjkZCZBkUHqW",
        "outputId": "1c5753bf-02f1-478f-ab02-2901f9878b30"
      },
      "outputs": [
        {
          "name": "stdout",
          "output_type": "stream",
          "text": [
            "0b101000\n"
          ]
        }
      ],
      "source": [
        "from math import floor, ceil\n",
        "ell = ceil(-log2(hi-lo))+2 if hi-lo > 0.0 else 96\n",
        "print(bin(floor(lo*2**ell)))"
      ]
    },
    {
      "cell_type": "markdown",
      "metadata": {
        "id": "PwPRIDu-Udp5"
      },
      "source": [
        "The cell below contains a skeleton arithmetic encoder that you need to complete before executing the commands below. They won't work until you've completed the implementation of the arithmetic encoder. Following that, there will be a cell containing the definition of an arithmetic decoder. The implementation of the decoder is complete and does not need to be amended (though you may want to look at some of the details in the programme to help you complete the encoder as there are similarities between the two."
      ]
    },
    {
      "cell_type": "code",
      "execution_count": 71,
      "metadata": {
        "id": "pDuEbS-lUdQE"
      },
      "outputs": [],
      "source": [
        "## The function definition below is INCOMPLETE. You must complete it before you\n",
        "## can proceed to the subsequent commands in this notebook.\n",
        "\n",
        "from sys import stdout as so\n",
        "from bisect import bisect\n",
        "\n",
        "def arith_encode(x, p):\n",
        "\n",
        "    precision = 32\n",
        "    one = int(2**precision - 1)\n",
        "    quarter = int(ceil(one/4))\n",
        "    half = 2*quarter\n",
        "    threequarters = 3*quarter\n",
        "\n",
        "    p = dict([(a,p[a]) for a in p if p[a]>0])\n",
        "\n",
        "    # Compute cumulative probability as in Shannon-Fano but WITHOUT\n",
        "    # sorting the probability distrbution\n",
        "    f = [0]\n",
        "    for a in p:\n",
        "        f.append(f[-1] + p[a])\n",
        "\n",
        "    f = dict([(a,mf) for a,mf in zip(p,f)])\n",
        "\n",
        "    y = [] # initialise output list\n",
        "    lo,hi = 0,one # initialise lo and hi to be [0,1.0)\n",
        "    straddle = 0 # initialise the straddle counter to 0\n",
        "\n",
        "\n",
        "    for k in range(len(x)): # for every symbol\n",
        "\n",
        "        # arithmetic coding is slower than vl_encode, so we display a \"progress bar\"\n",
        "        # to let the user know that we are processing the file and haven't crashed...\n",
        "        if k % 100 == 0:\n",
        "            so.write('Arithmetic encoded %d%%    \\r' % int(floor(k/len(x)*100)))\n",
        "            so.flush()\n",
        "\n",
        "        # 1) calculate the interval range to be the difference between hi and lo and\n",
        "        # add 1 to the difference. The added 1 is necessary to avoid rounding issues\n",
        "        lohi_range = hi - lo + 1\n",
        "\n",
        "        # 2) narrow the interval end-points [lo,hi) to the new range [f,f+p]\n",
        "        # within the old interval [lo,hi], being careful to round 'innwards' so\n",
        "        # the code remains prefix-free (you want to use the functions ceil and\n",
        "        # floor). This will require two instructions. Note that we start computing\n",
        "        # the new 'lo', then compute the new 'hi' using the scaled probability as\n",
        "        # the offset from the new 'lo' to the new 'hi'\n",
        "        lo = lo + int(ceil(f[x[k]]*lohi_range))\n",
        "        hi = lo + int(floor(p[x[k]]*lohi_range))\n",
        "\n",
        "        if (lo == hi):\n",
        "            raise NameError('Zero interval!')\n",
        "\n",
        "        # Now we need to re-scale the interval if its end-points have bits in common,\n",
        "        # and output the corresponding bits where appropriate. We will do this with an\n",
        "        # infinite loop, that will break when none of the conditions for output / straddle\n",
        "        # are fulfilled\n",
        "        while True:\n",
        "            if hi < half: # if lo < hi < 1/2\n",
        "                # stretch the interval by 2 and output a 0 followed by 'straddle' ones (if any)\n",
        "                # and zero the straddle after that. In fact, HOLD OFF on doing the stretching:\n",
        "                # we will do the stretching at the end of the if statement\n",
        "                y.append(0)\n",
        "                y += [1] * straddle\n",
        "                straddle = 0\n",
        "            elif lo >= half: # if hi > lo >= 1/2\n",
        "                # stretch the interval by 2 and substract 1, and output a 1 followed by 'straddle'\n",
        "                # zeros (if any) and zero straddle after that. Again, HOLD OFF on doing the stretching\n",
        "                # as this will be done after the if statement, but note that 2*interval - 1 is equivalent\n",
        "                # to 2*(interval - 1/2), so for now just substract 1/2 from the interval upper and lower\n",
        "                # bound (and don't forget that when we say \"1/2\" we mean the integer \"half\" we defined\n",
        "                # above: this is an integer arithmetic implementation!\n",
        "                y.append(1)\n",
        "                y += [0] * straddle\n",
        "                straddle = 0\n",
        "                lo -= half\n",
        "                hi -= half\n",
        "            elif lo >= quarter and hi < threequarters: # if 1/4 < lo < hi < 3/4\n",
        "                # we can increment the straddle counter and stretch the interval around\n",
        "                # the half way point. This can be impemented again as 2*(interval - 1/4),\n",
        "                # and as we will stretch by 2 after the if statement all that needs doing\n",
        "                # for now is to subtract 1/4 from the upper and lower bound\n",
        "                straddle += 1\n",
        "                lo -= quarter\n",
        "                hi -= quarter\n",
        "            else:\n",
        "                break # we break the infinite loop if the interval has reached an un-stretchable state\n",
        "            # now we can stretch the interval (for all 3 conditions above) by multiplying by 2\n",
        "            lo *= 2\n",
        "            hi = hi * 2 + 1 # multiply hi by 2 and add 1 (I DON'T KNOW WHY +1 IS NECESSARY BUT IT IS. THIS IS MAGIC.\n",
        "            #      A BOX OF CHOCOLATES FOR ANYONE WHO GIVES ME A WELL ARGUED REASON FOR THIS... It seems\n",
        "            #      to solve a minor precision problem.)\n",
        "\n",
        "    # termination bits\n",
        "    # after processing all input symbols, flush any bits still in the 'straddle' pipeline\n",
        "    straddle += 1 # adding 1 to straddle for \"good measure\" (ensures prefix-freeness)\n",
        "    if lo < quarter: # the position of lo determines the dyadic interval that fits\n",
        "        y.append(0)# append a zero followed by \"straddle\" ones\n",
        "        y += [1] * straddle\n",
        "    else:\n",
        "        y.append(1)\n",
        "        y += [0] * straddle\n",
        "\n",
        "\n",
        "    return(y) # return the final output string"
      ]
    },
    {
      "cell_type": "markdown",
      "metadata": {
        "id": "d4aZ-YGLVK3y"
      },
      "source": [
        "And now for the decoder (complete definition, no editing needed):"
      ]
    },
    {
      "cell_type": "code",
      "execution_count": 72,
      "metadata": {
        "id": "iVSB1RHCUeon"
      },
      "outputs": [],
      "source": [
        "## The function definition below is COMPLETE. You do not need to edit it.\n",
        "\n",
        "def arith_decode(y,p,n):\n",
        "    precision = 32\n",
        "    one = int(2**precision - 1)\n",
        "    quarter = int(ceil(one/4))\n",
        "    half = 2*quarter\n",
        "    threequarters = 3*quarter\n",
        "\n",
        "    p = dict([(a,p[a]) for a in p if p[a]>0])\n",
        "\n",
        "    alphabet = list(p)\n",
        "    f = [0]\n",
        "    for a in p:\n",
        "        f.append(f[-1]+p[a])\n",
        "    f.pop()\n",
        "\n",
        "    p = list(p.values())\n",
        "\n",
        "    y.extend(precision*[0]) # dummy zeros to prevent index out of bound errors\n",
        "    x = n*[0] # initialise all zeros\n",
        "\n",
        "    # initialise by taking first 'precision' bits from y and converting to a number\n",
        "    value = int(''.join(str(a) for a in y[0:precision]), 2)\n",
        "    y_position = precision # position where currently reading y\n",
        "    lo,hi = 0,one\n",
        "\n",
        "    x_position = 0\n",
        "    while 1:\n",
        "        if x_position % 100 == 0:\n",
        "            so.write('Arithmetic decoded %d%%    \\r' % int(floor(x_position/n*100)))\n",
        "            so.flush()\n",
        "\n",
        "        lohi_range = hi - lo + 1\n",
        "        a = bisect(f, (value-lo)/lohi_range) - 1\n",
        "        x[x_position] = alphabet[a]\n",
        "\n",
        "        lo = lo + int(ceil(f[a]*lohi_range))\n",
        "        hi = lo + int(floor(p[a]*lohi_range))\n",
        "        if (lo == hi):\n",
        "            raise NameError('Zero interval!')\n",
        "\n",
        "        while True:\n",
        "            if hi < half:\n",
        "                # do nothing\n",
        "                pass\n",
        "            elif lo >= half:\n",
        "                lo = lo - half\n",
        "                hi = hi - half\n",
        "                value = value - half\n",
        "            elif lo >= quarter and hi < threequarters:\n",
        "                lo = lo - quarter\n",
        "                hi = hi - quarter\n",
        "                value = value - quarter\n",
        "            else:\n",
        "                break\n",
        "            lo = 2*lo\n",
        "            hi = 2*hi + 1\n",
        "            value = 2*value + y[y_position]\n",
        "            y_position += 1\n",
        "            if y_position == len(y):\n",
        "                break\n",
        "\n",
        "        x_position += 1\n",
        "        if x_position == n or y_position == len(y):\n",
        "            break\n",
        "\n",
        "    return(x)"
      ]
    },
    {
      "cell_type": "markdown",
      "metadata": {
        "id": "ialaFaLsUHqW"
      },
      "source": [
        "We encode and decode Hamlet again using arithmetic coding and verify that the first few lines of the play look as expected."
      ]
    },
    {
      "cell_type": "code",
      "execution_count": 73,
      "metadata": {
        "colab": {
          "base_uri": "https://localhost:8080/"
        },
        "id": "Mi6LfEjXUHqW",
        "outputId": "4147f3a4-874b-47cc-d838-80c5a10a340f"
      },
      "outputs": [
        {
          "name": "stdout",
          "output_type": "stream",
          "text": [
            "Arithmetic decoded 99%    \n",
            "        HAMLET\n",
            "\n",
            "\n",
            "        DRAMATIS PERSONAE\n",
            "\n",
            "\n",
            "CLAUDIUS        king of Denmark. (KING CLAUDIUS:)\n",
            "\n",
            "HAMLET  son to the late, and nephew to the present king.\n",
            "\n",
            "POLONIUS        lord chamberlain. (LORD POLONIUS:)\n",
            "\n",
            "HORATIO friend to Hamlet.\n",
            "\n",
            "LAERTES son to Polonius.\n",
            "\n",
            "LUCIANUS        nephew to the king.\n"
          ]
        }
      ],
      "source": [
        "arith_encoded = arith_encode(hamlet, p)\n",
        "arith_decoded = arith_decode(arith_encoded, p, Nin)\n",
        "print('\\n'+''.join(arith_decoded[:294]))"
      ]
    },
    {
      "cell_type": "markdown",
      "metadata": {
        "id": "O8_N5UgkUHqX"
      },
      "source": [
        "We now repeat the steps above but introduce a one bit mistake (bit 399 flipped) and observe the effect on the decoded text. Repeat this experiment varying the location of the mistake or adding more than one mistake. What do you observe? Can you explain why?"
      ]
    },
    {
      "cell_type": "code",
      "execution_count": 115,
      "metadata": {
        "colab": {
          "base_uri": "https://localhost:8080/"
        },
        "id": "ca5cenCgUHqY",
        "outputId": "a8374392-5586-4146-961f-41092f15ed06"
      },
      "outputs": [
        {
          "name": "stdout",
          "output_type": "stream",
          "text": [
            "Arithmetic decoded 99%    \n",
            "        HAMi tOim A\n",
            "wtl ou mhmu.tL fN  \n",
            ",o ltdssonsE\n",
            "h wtA ,n ny  utgtanaaiOl   ttI,h   sti. yEd entsot    hoe u   h\n",
            ",e  yhmuY m p   lu  n.moe mt a orre  oho Aw etlefCr   x    elbhtNyUomm   yt C ;tfnr\n",
            "nATuiMinneoe s \n",
            "tc s idftOhrhtatmbo ioS rs . tlg\n",
            "o.noaMheeohgea bt  \n",
            "opna g\n",
            " memwi ;s et .hgi\n"
          ]
        }
      ],
      "source": [
        "arith_corrupted = arith_encoded.copy()\n",
        "arith_corrupted[399] ^= 1\n",
        "arith_corrupted[39] ^= 1\n",
        "arith_decoded = arith_decode(arith_corrupted, p, Nin)\n",
        "print('\\n'+''.join(arith_decoded[:294]))"
      ]
    }
  ],
  "metadata": {
    "colab": {
      "provenance": []
    },
    "kernelspec": {
      "display_name": "Python 3",
      "language": "python",
      "name": "python3"
    },
    "language_info": {
      "codemirror_mode": {
        "name": "ipython",
        "version": 3
      },
      "file_extension": ".py",
      "mimetype": "text/x-python",
      "name": "python",
      "nbconvert_exporter": "python",
      "pygments_lexer": "ipython3",
      "version": "3.11.9"
    }
  },
  "nbformat": 4,
  "nbformat_minor": 0
}
